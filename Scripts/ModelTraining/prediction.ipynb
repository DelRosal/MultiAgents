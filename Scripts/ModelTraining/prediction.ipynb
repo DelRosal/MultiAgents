{
 "cells": [
  {
   "cell_type": "markdown",
   "metadata": {},
   "source": [
    "### Import libraries"
   ]
  },
  {
   "cell_type": "code",
   "execution_count": 1,
   "metadata": {},
   "outputs": [
    {
     "name": "stderr",
     "output_type": "stream",
     "text": [
      "Ultralytics YOLOv8.0.208 🚀 Python-3.11.5 torch-2.1.0+cu121 CPU (AMD Ryzen 7 5800H with Radeon Graphics)\n",
      "Setup complete ✅ (16 CPUs, 15.0 GB RAM, 366.0/468.1 GB disk)\n"
     ]
    }
   ],
   "source": [
    "import supervision as sv\n",
    "import ultralytics\n",
    "import numpy as np\n",
    "import os\n",
    "from IPython import display\n",
    "from PIL import Image\n",
    "from datetime import datetime\n",
    "display.clear_output()\n",
    "ultralytics.checks()"
   ]
  },
  {
   "cell_type": "markdown",
   "metadata": {},
   "source": [
    "### Set paths"
   ]
  },
  {
   "cell_type": "code",
   "execution_count": 2,
   "metadata": {},
   "outputs": [],
   "source": [
    "model = \"train10\" # Model that we're going to use\n",
    "cwd = os.getcwd()\n",
    "# foto que vamos a procesar\n",
    "video_path = os.path.join(cwd, \"assets\", \"dump-truck-loading-material.mp4\")\n",
    "\n",
    "# ubicacion del modelo base de yolo\n",
    "model_path = os.path.join(cwd, \"runs\", \"detect\", model, \"weights\", \"best.pt\")\n",
    "\n",
    "# ubicacion de salida\n",
    "output_path = os.path.join(cwd, \"output\")\n",
    "\n",
    "# ubicacion de video de salida ya con anotaciones\n",
    "output_video_path = os.path.join(output_path, \"dump-truck-loading-material-annotated.mp4\")"
   ]
  },
  {
   "cell_type": "markdown",
   "metadata": {},
   "source": [
    "### Test the model (Video)"
   ]
  },
  {
   "cell_type": "code",
   "execution_count": 6,
   "metadata": {},
   "outputs": [
    {
     "ename": "UnboundLocalError",
     "evalue": "cannot access local variable 'n' where it is not associated with a value",
     "output_type": "error",
     "traceback": [
      "\u001b[0;31m---------------------------------------------------------------------------\u001b[0m",
      "\u001b[0;31mUnboundLocalError\u001b[0m                         Traceback (most recent call last)",
      "\u001b[1;32m/home/esquivelg/Documents/GitHub/reto-banco-materiales/prediction.ipynb Cell 6\u001b[0m line \u001b[0;36m3\n\u001b[1;32m     <a href='vscode-notebook-cell:/home/esquivelg/Documents/GitHub/reto-banco-materiales/prediction.ipynb#W5sZmlsZQ%3D%3D?line=28'>29</a>\u001b[0m     labels \u001b[39m=\u001b[39m [\n\u001b[1;32m     <a href='vscode-notebook-cell:/home/esquivelg/Documents/GitHub/reto-banco-materiales/prediction.ipynb#W5sZmlsZQ%3D%3D?line=29'>30</a>\u001b[0m         \u001b[39m# imprimimos la clase en texto y la confianza que el modelo tiene en su prediccion\u001b[39;00m\n\u001b[1;32m     <a href='vscode-notebook-cell:/home/esquivelg/Documents/GitHub/reto-banco-materiales/prediction.ipynb#W5sZmlsZQ%3D%3D?line=30'>31</a>\u001b[0m         \u001b[39mf\u001b[39m\u001b[39m\"\u001b[39m\u001b[39m{\u001b[39;00mmodel\u001b[39m.\u001b[39mmodel\u001b[39m.\u001b[39mnames[class_id]\u001b[39m}\u001b[39;00m\u001b[39m \u001b[39m\u001b[39m{\u001b[39;00mconfidence\u001b[39m:\u001b[39;00m\u001b[39m0.2f\u001b[39m\u001b[39m}\u001b[39;00m\u001b[39m\"\u001b[39m\n\u001b[1;32m     <a href='vscode-notebook-cell:/home/esquivelg/Documents/GitHub/reto-banco-materiales/prediction.ipynb#W5sZmlsZQ%3D%3D?line=31'>32</a>\u001b[0m         \u001b[39mfor\u001b[39;00m _, _, confidence, class_id, _\n\u001b[1;32m     <a href='vscode-notebook-cell:/home/esquivelg/Documents/GitHub/reto-banco-materiales/prediction.ipynb#W5sZmlsZQ%3D%3D?line=32'>33</a>\u001b[0m         \u001b[39min\u001b[39;00m detections\n\u001b[1;32m     <a href='vscode-notebook-cell:/home/esquivelg/Documents/GitHub/reto-banco-materiales/prediction.ipynb#W5sZmlsZQ%3D%3D?line=33'>34</a>\u001b[0m     ]\n\u001b[1;32m     <a href='vscode-notebook-cell:/home/esquivelg/Documents/GitHub/reto-banco-materiales/prediction.ipynb#W5sZmlsZQ%3D%3D?line=35'>36</a>\u001b[0m     \u001b[39mreturn\u001b[39;00m annotator\u001b[39m.\u001b[39mannotate(scene\u001b[39m=\u001b[39mframe\u001b[39m.\u001b[39mcopy(), detections\u001b[39m=\u001b[39mdetections, labels\u001b[39m=\u001b[39mlabels)\n\u001b[0;32m---> <a href='vscode-notebook-cell:/home/esquivelg/Documents/GitHub/reto-banco-materiales/prediction.ipynb#W5sZmlsZQ%3D%3D?line=37'>38</a>\u001b[0m sv\u001b[39m.\u001b[39;49mprocess_video(\n\u001b[1;32m     <a href='vscode-notebook-cell:/home/esquivelg/Documents/GitHub/reto-banco-materiales/prediction.ipynb#W5sZmlsZQ%3D%3D?line=38'>39</a>\u001b[0m     source_path\u001b[39m=\u001b[39;49mvideo_path,\n\u001b[1;32m     <a href='vscode-notebook-cell:/home/esquivelg/Documents/GitHub/reto-banco-materiales/prediction.ipynb#W5sZmlsZQ%3D%3D?line=39'>40</a>\u001b[0m     target_path\u001b[39m=\u001b[39;49moutput_video_path,\n\u001b[1;32m     <a href='vscode-notebook-cell:/home/esquivelg/Documents/GitHub/reto-banco-materiales/prediction.ipynb#W5sZmlsZQ%3D%3D?line=40'>41</a>\u001b[0m     callback\u001b[39m=\u001b[39;49mcallback,\n\u001b[1;32m     <a href='vscode-notebook-cell:/home/esquivelg/Documents/GitHub/reto-banco-materiales/prediction.ipynb#W5sZmlsZQ%3D%3D?line=41'>42</a>\u001b[0m )\n",
      "File \u001b[0;32m~/Documents/GitHub/reto-banco-materiales/venv/lib/python3.11/site-packages/supervision/utils/video.py:203\u001b[0m, in \u001b[0;36mprocess_video\u001b[0;34m(source_path, target_path, callback)\u001b[0m\n\u001b[1;32m    199\u001b[0m \u001b[39mwith\u001b[39;00m VideoSink(target_path\u001b[39m=\u001b[39mtarget_path, video_info\u001b[39m=\u001b[39msource_video_info) \u001b[39mas\u001b[39;00m sink:\n\u001b[1;32m    200\u001b[0m     \u001b[39mfor\u001b[39;00m index, frame \u001b[39min\u001b[39;00m \u001b[39menumerate\u001b[39m(\n\u001b[1;32m    201\u001b[0m         get_video_frames_generator(source_path\u001b[39m=\u001b[39msource_path)\n\u001b[1;32m    202\u001b[0m     ):\n\u001b[0;32m--> 203\u001b[0m         result_frame \u001b[39m=\u001b[39m callback(frame, index)\n\u001b[1;32m    204\u001b[0m         sink\u001b[39m.\u001b[39mwrite_frame(frame\u001b[39m=\u001b[39mresult_frame)\n",
      "\u001b[1;32m/home/esquivelg/Documents/GitHub/reto-banco-materiales/prediction.ipynb Cell 6\u001b[0m line \u001b[0;36m1\n\u001b[1;32m     <a href='vscode-notebook-cell:/home/esquivelg/Documents/GitHub/reto-banco-materiales/prediction.ipynb#W5sZmlsZQ%3D%3D?line=12'>13</a>\u001b[0m \u001b[39mdef\u001b[39;00m \u001b[39mcallback\u001b[39m(frame: np\u001b[39m.\u001b[39mndarray, index: \u001b[39mint\u001b[39m) \u001b[39m-\u001b[39m\u001b[39m>\u001b[39m np\u001b[39m.\u001b[39mndarray:\n\u001b[1;32m     <a href='vscode-notebook-cell:/home/esquivelg/Documents/GitHub/reto-banco-materiales/prediction.ipynb#W5sZmlsZQ%3D%3D?line=13'>14</a>\u001b[0m     \u001b[39m# inferencia y obtener predicciones\u001b[39;00m\n\u001b[0;32m---> <a href='vscode-notebook-cell:/home/esquivelg/Documents/GitHub/reto-banco-materiales/prediction.ipynb#W5sZmlsZQ%3D%3D?line=14'>15</a>\u001b[0m     n\u001b[39m+\u001b[39m\u001b[39m=\u001b[39m\u001b[39m1\u001b[39m;\n\u001b[1;32m     <a href='vscode-notebook-cell:/home/esquivelg/Documents/GitHub/reto-banco-materiales/prediction.ipynb#W5sZmlsZQ%3D%3D?line=15'>16</a>\u001b[0m     results \u001b[39m=\u001b[39m model(frame)\n\u001b[1;32m     <a href='vscode-notebook-cell:/home/esquivelg/Documents/GitHub/reto-banco-materiales/prediction.ipynb#W5sZmlsZQ%3D%3D?line=17'>18</a>\u001b[0m     \u001b[39m# como solo tenemos un frame, solo tomamos el primer resultado de la lista\u001b[39;00m\n",
      "\u001b[0;31mUnboundLocalError\u001b[0m: cannot access local variable 'n' where it is not associated with a value"
     ]
    }
   ],
   "source": [
    "\n",
    "# cargar modelo\n",
    "model = ultralytics.YOLO(model_path)\n",
    "\n",
    "# anotador que nos permite aplicar las predicciones a la imagen para visualizarlas\n",
    "annotator = sv.BoxAnnotator()\n",
    "\n",
    "# byte tracker nos permite mantener track de los objetos que se van detectando en el video\n",
    "byte_tracker = sv.ByteTrack()\n",
    "\n",
    "# esta funcion se manda llamar por cada frame del video\n",
    "all_results = []\n",
    "n = 0\n",
    "def callback(frame: np.ndarray, index: int) -> np.ndarray:\n",
    "    # inferencia y obtener predicciones\n",
    "    results = model(frame)\n",
    "\n",
    "    # como solo tenemos un frame, solo tomamos el primer resultado de la lista\n",
    "    first_frame_results = results[0]\n",
    "\n",
    "    all_results.append(first_frame_results) \n",
    "    \n",
    "    # convertir las predicciones a un objeto de supervision que servira para visualizarlas\n",
    "    detections = sv.Detections.from_ultralytics(first_frame_results)\n",
    "    detections = byte_tracker.update_with_detections(detections)\n",
    "\n",
    "    \n",
    "    # agregar etiquetas para facilitar saber que se esta detectando\n",
    "    labels = [\n",
    "        # imprimimos la clase en texto y la confianza que el modelo tiene en su prediccion\n",
    "        f\"{model.model.names[class_id]} {confidence:0.2f}\"\n",
    "        for _, _, confidence, class_id, _\n",
    "        in detections\n",
    "    ]\n",
    "    n++;\n",
    "    return annotator.annotate(scene=frame.copy(), detections=detections, labels=labels)\n",
    "\n",
    "sv.process_video(\n",
    "    source_path=video_path,\n",
    "    target_path=output_video_path,\n",
    "    callback=callback,\n",
    ")"
   ]
  },
  {
   "cell_type": "code",
   "execution_count": 5,
   "metadata": {},
   "outputs": [
    {
     "name": "stdout",
     "output_type": "stream",
     "text": [
      "empty-truck with 0.3024 percent of confidence\n",
      "empty-truck with 0.3539 percent of confidence\n",
      "empty-truck with 0.3032 percent of confidence\n",
      "empty-truck with 0.2968 percent of confidence\n",
      "empty-truck with 0.3287 percent of confidence\n",
      "empty-truck with 0.359 percent of confidence\n",
      "empty-truck with 0.3249 percent of confidence\n",
      "empty-truck with 0.3016 percent of confidence\n",
      "empty-truck with 0.3265 percent of confidence\n",
      "empty-truck with 0.3091 percent of confidence\n",
      "empty-truck with 0.2987 percent of confidence\n",
      "empty-truck with 0.2879 percent of confidence\n",
      "empty-truck with 0.2991 percent of confidence\n",
      "empty-truck with 0.3239 percent of confidence\n",
      "empty-truck with 0.3588 percent of confidence\n",
      "empty-truck with 0.3227 percent of confidence\n",
      "empty-truck with 0.3222 percent of confidence\n",
      "empty-truck with 0.4334 percent of confidence\n",
      "empty-truck with 0.4434 percent of confidence\n",
      "empty-truck with 0.4791 percent of confidence\n",
      "empty-truck with 0.3422 percent of confidence\n",
      "empty-truck with 0.4944 percent of confidence\n",
      "empty-truck with 0.3966 percent of confidence\n",
      "empty-truck with 0.3932 percent of confidence\n",
      "empty-truck with 0.349 percent of confidence\n",
      "empty-truck with 0.6157 percent of confidence\n",
      "empty-truck with 0.7701 percent of confidence\n",
      "empty-truck with 0.5687 percent of confidence\n",
      "empty-truck with 0.4391 percent of confidence\n",
      "empty-truck with 0.4799 percent of confidence\n",
      "empty-truck with 0.6603 percent of confidence\n",
      "empty-truck with 0.6913 percent of confidence\n",
      "empty-truck with 0.6034 percent of confidence\n",
      "empty-truck with 0.5543 percent of confidence\n",
      "empty-truck with 0.595 percent of confidence\n",
      "empty-truck with 0.6908 percent of confidence\n",
      "empty-truck with 0.6039 percent of confidence\n",
      "empty-truck with 0.503 percent of confidence\n",
      "empty-truck with 0.4835 percent of confidence\n",
      "empty-truck with 0.4494 percent of confidence\n",
      "empty-truck with 0.6122 percent of confidence\n",
      "empty-truck with 0.686 percent of confidence\n",
      "empty-truck with 0.6899 percent of confidence\n",
      "empty-truck with 0.312 percent of confidence\n",
      "empty-truck with 0.4668 percent of confidence\n",
      "empty-truck with 0.414 percent of confidence\n",
      "empty-truck with 0.361 percent of confidence\n",
      "empty-truck with 0.3665 percent of confidence\n",
      "empty-truck with 0.3616 percent of confidence\n",
      "empty-truck with 0.3572 percent of confidence\n",
      "empty-truck with 0.3634 percent of confidence\n",
      "empty-truck with 0.3732 percent of confidence\n",
      "empty-truck with 0.3521 percent of confidence\n",
      "empty-truck with 0.358 percent of confidence\n",
      "empty-truck with 0.3148 percent of confidence\n",
      "empty-truck with 0.2722 percent of confidence\n",
      "empty-truck with 0.2964 percent of confidence\n",
      "empty-truck with 0.3116 percent of confidence\n",
      "empty-truck with 0.3172 percent of confidence\n",
      "empty-truck with 0.3598 percent of confidence\n",
      "empty-truck with 0.3144 percent of confidence\n",
      "empty-truck with 0.3175 percent of confidence\n",
      "empty-truck with 0.361 percent of confidence\n",
      "empty-truck with 0.3736 percent of confidence\n",
      "empty-truck with 0.3339 percent of confidence\n",
      "empty-truck with 0.254 percent of confidence\n",
      "empty-truck with 0.2875 percent of confidence\n",
      "empty-truck with 0.2692 percent of confidence\n"
     ]
    },
    {
     "ename": "IndexError",
     "evalue": "index 0 is out of bounds for dimension 0 with size 0",
     "output_type": "error",
     "traceback": [
      "\u001b[0;31m---------------------------------------------------------------------------\u001b[0m",
      "\u001b[0;31mIndexError\u001b[0m                                Traceback (most recent call last)",
      "\u001b[1;32m/home/esquivelg/Documents/GitHub/reto-banco-materiales/prediction.ipynb Cell 7\u001b[0m line \u001b[0;36m2\n\u001b[1;32m      <a href='vscode-notebook-cell:/home/esquivelg/Documents/GitHub/reto-banco-materiales/prediction.ipynb#X11sZmlsZQ%3D%3D?line=0'>1</a>\u001b[0m \u001b[39mfor\u001b[39;00m r \u001b[39min\u001b[39;00m all_results:\n\u001b[0;32m----> <a href='vscode-notebook-cell:/home/esquivelg/Documents/GitHub/reto-banco-materiales/prediction.ipynb#X11sZmlsZQ%3D%3D?line=1'>2</a>\u001b[0m     box \u001b[39m=\u001b[39m r\u001b[39m.\u001b[39;49mboxes[\u001b[39m0\u001b[39;49m]\n\u001b[1;32m      <a href='vscode-notebook-cell:/home/esquivelg/Documents/GitHub/reto-banco-materiales/prediction.ipynb#X11sZmlsZQ%3D%3D?line=2'>3</a>\u001b[0m     \u001b[39mif\u001b[39;00m (\u001b[39mlen\u001b[39m(r\u001b[39m.\u001b[39mboxes) \u001b[39m>\u001b[39m\u001b[39m=\u001b[39m \u001b[39m1\u001b[39m):\n\u001b[1;32m      <a href='vscode-notebook-cell:/home/esquivelg/Documents/GitHub/reto-banco-materiales/prediction.ipynb#X11sZmlsZQ%3D%3D?line=3'>4</a>\u001b[0m         \u001b[39mif\u001b[39;00m (box\u001b[39m.\u001b[39mcls[\u001b[39m0\u001b[39m] \u001b[39m==\u001b[39m \u001b[39m0\u001b[39m): \u001b[39m# Empty truck\u001b[39;00m\n",
      "File \u001b[0;32m~/Documents/GitHub/reto-banco-materiales/venv/lib/python3.11/site-packages/ultralytics/engine/results.py:63\u001b[0m, in \u001b[0;36mBaseTensor.__getitem__\u001b[0;34m(self, idx)\u001b[0m\n\u001b[1;32m     61\u001b[0m \u001b[39mdef\u001b[39;00m \u001b[39m__getitem__\u001b[39m(\u001b[39mself\u001b[39m, idx):\n\u001b[1;32m     62\u001b[0m \u001b[39m    \u001b[39m\u001b[39m\"\"\"Return a BaseTensor with the specified index of the data tensor.\"\"\"\u001b[39;00m\n\u001b[0;32m---> 63\u001b[0m     \u001b[39mreturn\u001b[39;00m \u001b[39mself\u001b[39m\u001b[39m.\u001b[39m\u001b[39m__class__\u001b[39m(\u001b[39mself\u001b[39;49m\u001b[39m.\u001b[39;49mdata[idx], \u001b[39mself\u001b[39m\u001b[39m.\u001b[39morig_shape)\n",
      "\u001b[0;31mIndexError\u001b[0m: index 0 is out of bounds for dimension 0 with size 0"
     ]
    }
   ],
   "source": [
    "for r in all_results:\n",
    "    box = r.boxes[0]\n",
    "    if (len(r.boxes) >= 1):\n",
    "        if (box.cls[0] == 0): # Empty truck\n",
    "            print(f\"{r.names[0]} with {round(box.conf[0].item(), 4)} percent of confidence\")\n",
    "        \n",
    "        elif (box.cls[0] == 1): # Filled truck\n",
    "            print(f\"{r.names[0]} with {round(box.conf[0].item(), 4)} percent of confidence\")\n",
    "    \n",
    "    im_array = r.plot()  # plot a BGR numpy array of predictions\n",
    "    im = Image.fromarray(im_array[..., ::-1])  # RGB PIL image\n",
    "    \n",
    "    current_date = datetime.now().strftime('%Y%m%d-%H:%M')\n",
    "    im.save(f\"output/{current_date}.jpg\")  # save image\n"
   ]
  },
  {
   "cell_type": "markdown",
   "metadata": {},
   "source": [
    "### Test the model (Image)"
   ]
  },
  {
   "cell_type": "code",
   "execution_count": 53,
   "metadata": {},
   "outputs": [
    {
     "name": "stderr",
     "output_type": "stream",
     "text": [
      "\n",
      "image 1/1 /home/esquivelg/Documents/GitHub/reto-banco-materiales/assets/img1.png: 384x640 2 empty-trucks, 78.0ms\n",
      "Speed: 2.0ms preprocess, 78.0ms inference, 1.2ms postprocess per image at shape (1, 3, 384, 640)\n"
     ]
    },
    {
     "name": "stdout",
     "output_type": "stream",
     "text": [
      "empty-truck with 0.3285 percent of confidence\n"
     ]
    }
   ],
   "source": [
    "\n",
    "# cargar modelo\n",
    "model = ultralytics.YOLO(model_path)\n",
    "\n",
    "source = './assets/img1.png'\n",
    "\n",
    "results = model(source)\n",
    "\n",
    "for r in results:\n",
    "    box = r.boxes[0]\n",
    "    if (len(r.boxes) >= 1):\n",
    "        if (box.cls[0] == 0): # Empty truck\n",
    "            print(f\"{r.names[0]} with {round(box.conf[0].item(), 4)} percent of confidence\")\n",
    "        \n",
    "        elif (box.cls[0] == 1): # Filled truck\n",
    "            print(f\"{r.names[0]} with {round(box.conf[0].item(), 4)} percent of confidence\")\n",
    "    \n",
    "    im_array = r.plot()  # plot a BGR numpy array of predictions\n",
    "    im = Image.fromarray(im_array[..., ::-1])  # RGB PIL image\n",
    "    \n",
    "    current_date = datetime.now().strftime('%Y%m%d-%H:%M')\n",
    "    im.save(f\"output/{current_date}.jpg\")  # save image"
   ]
  }
 ],
 "metadata": {
  "kernelspec": {
   "display_name": "Python 3",
   "language": "python",
   "name": "python3"
  },
  "language_info": {
   "codemirror_mode": {
    "name": "ipython",
    "version": 3
   },
   "file_extension": ".py",
   "mimetype": "text/x-python",
   "name": "python",
   "nbconvert_exporter": "python",
   "pygments_lexer": "ipython3",
   "version": "3.11.5"
  },
  "orig_nbformat": 4
 },
 "nbformat": 4,
 "nbformat_minor": 2
}
